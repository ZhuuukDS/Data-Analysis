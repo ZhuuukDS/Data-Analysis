{
 "cells": [
  {
   "cell_type": "code",
   "execution_count": 1,
   "id": "34ad83f8-ba8d-47ec-9ca7-153fa2f024e0",
   "metadata": {},
   "outputs": [],
   "source": [
    "import pandas as pd"
   ]
  },
  {
   "cell_type": "code",
   "execution_count": 2,
   "id": "880b3bb6-9b34-4ce2-bfad-c8cfddb26c0a",
   "metadata": {},
   "outputs": [],
   "source": [
    "cats = pd.read_csv('categories.csv')"
   ]
  },
  {
   "cell_type": "code",
   "execution_count": 23,
   "id": "c5372167-8c25-49d5-b554-0033c1789f3c",
   "metadata": {},
   "outputs": [
    {
     "data": {
      "text/html": [
       "<div>\n",
       "<style scoped>\n",
       "    .dataframe tbody tr th:only-of-type {\n",
       "        vertical-align: middle;\n",
       "    }\n",
       "\n",
       "    .dataframe tbody tr th {\n",
       "        vertical-align: top;\n",
       "    }\n",
       "\n",
       "    .dataframe thead th {\n",
       "        text-align: right;\n",
       "    }\n",
       "</style>\n",
       "<table border=\"1\" class=\"dataframe\">\n",
       "  <thead>\n",
       "    <tr style=\"text-align: right;\">\n",
       "      <th></th>\n",
       "      <th>Unnamed: 0</th>\n",
       "      <th>category_id</th>\n",
       "      <th>parent_id</th>\n",
       "      <th>name</th>\n",
       "      <th>link_url</th>\n",
       "    </tr>\n",
       "  </thead>\n",
       "  <tbody>\n",
       "    <tr>\n",
       "      <th>0</th>\n",
       "      <td>0</td>\n",
       "      <td>925</td>\n",
       "      <td>1212.0</td>\n",
       "      <td>Сушилки для обуви</td>\n",
       "      <td>http://e96.ru/household_appliances/washing/sus...</td>\n",
       "    </tr>\n",
       "    <tr>\n",
       "      <th>1</th>\n",
       "      <td>1</td>\n",
       "      <td>776</td>\n",
       "      <td>683.0</td>\n",
       "      <td>Футбол</td>\n",
       "      <td>http://e96.ru/sporting_goods/football</td>\n",
       "    </tr>\n",
       "    <tr>\n",
       "      <th>2</th>\n",
       "      <td>2</td>\n",
       "      <td>735</td>\n",
       "      <td>1175.0</td>\n",
       "      <td>Комоды для ванн</td>\n",
       "      <td>http://e96.ru/furniture/bathroom/komody_dlja_vann</td>\n",
       "    </tr>\n",
       "    <tr>\n",
       "      <th>3</th>\n",
       "      <td>3</td>\n",
       "      <td>1513</td>\n",
       "      <td>1504.0</td>\n",
       "      <td>Домики для собак</td>\n",
       "      <td>http://e96.ru/zootovary/tovary_dlja_sobak/domi...</td>\n",
       "    </tr>\n",
       "    <tr>\n",
       "      <th>4</th>\n",
       "      <td>4</td>\n",
       "      <td>1357</td>\n",
       "      <td>1086.0</td>\n",
       "      <td>Кувалды</td>\n",
       "      <td>http://e96.ru/tools/hand_tools/kuvaldy</td>\n",
       "    </tr>\n",
       "    <tr>\n",
       "      <th>...</th>\n",
       "      <td>...</td>\n",
       "      <td>...</td>\n",
       "      <td>...</td>\n",
       "      <td>...</td>\n",
       "      <td>...</td>\n",
       "    </tr>\n",
       "    <tr>\n",
       "      <th>1323</th>\n",
       "      <td>1323</td>\n",
       "      <td>867</td>\n",
       "      <td>856.0</td>\n",
       "      <td>Секундомеры</td>\n",
       "      <td>http://e96.ru/sporting_goods/measuring_devices...</td>\n",
       "    </tr>\n",
       "    <tr>\n",
       "      <th>1324</th>\n",
       "      <td>1324</td>\n",
       "      <td>770</td>\n",
       "      <td>769.0</td>\n",
       "      <td>Груши</td>\n",
       "      <td>http://e96.ru/sporting_goods/martial_arts/grushi</td>\n",
       "    </tr>\n",
       "    <tr>\n",
       "      <th>1325</th>\n",
       "      <td>1325</td>\n",
       "      <td>1075</td>\n",
       "      <td>129.0</td>\n",
       "      <td>Дрели, шуруповерты, гайковерты</td>\n",
       "      <td>http://e96.ru/tools/drills</td>\n",
       "    </tr>\n",
       "    <tr>\n",
       "      <th>1326</th>\n",
       "      <td>1326</td>\n",
       "      <td>237</td>\n",
       "      <td>1211.0</td>\n",
       "      <td>Массажные ванночки для ног</td>\n",
       "      <td>http://e96.ru/household_appliances/health_and_...</td>\n",
       "    </tr>\n",
       "    <tr>\n",
       "      <th>1327</th>\n",
       "      <td>1327</td>\n",
       "      <td>832</td>\n",
       "      <td>779.0</td>\n",
       "      <td>Ласты</td>\n",
       "      <td>http://e96.ru/sporting_goods/swimming/lasty</td>\n",
       "    </tr>\n",
       "  </tbody>\n",
       "</table>\n",
       "<p>1328 rows × 5 columns</p>\n",
       "</div>"
      ],
      "text/plain": [
       "      Unnamed: 0  category_id  parent_id                            name  \\\n",
       "0              0          925     1212.0               Сушилки для обуви   \n",
       "1              1          776      683.0                          Футбол   \n",
       "2              2          735     1175.0                 Комоды для ванн   \n",
       "3              3         1513     1504.0                Домики для собак   \n",
       "4              4         1357     1086.0                         Кувалды   \n",
       "...          ...          ...        ...                             ...   \n",
       "1323        1323          867      856.0                     Секундомеры   \n",
       "1324        1324          770      769.0                           Груши   \n",
       "1325        1325         1075      129.0  Дрели, шуруповерты, гайковерты   \n",
       "1326        1326          237     1211.0      Массажные ванночки для ног   \n",
       "1327        1327          832      779.0                           Ласты   \n",
       "\n",
       "                                               link_url  \n",
       "0     http://e96.ru/household_appliances/washing/sus...  \n",
       "1                 http://e96.ru/sporting_goods/football  \n",
       "2     http://e96.ru/furniture/bathroom/komody_dlja_vann  \n",
       "3     http://e96.ru/zootovary/tovary_dlja_sobak/domi...  \n",
       "4                http://e96.ru/tools/hand_tools/kuvaldy  \n",
       "...                                                 ...  \n",
       "1323  http://e96.ru/sporting_goods/measuring_devices...  \n",
       "1324   http://e96.ru/sporting_goods/martial_arts/grushi  \n",
       "1325                         http://e96.ru/tools/drills  \n",
       "1326  http://e96.ru/household_appliances/health_and_...  \n",
       "1327        http://e96.ru/sporting_goods/swimming/lasty  \n",
       "\n",
       "[1328 rows x 5 columns]"
      ]
     },
     "execution_count": 23,
     "metadata": {},
     "output_type": "execute_result"
    }
   ],
   "source": [
    "cats"
   ]
  },
  {
   "cell_type": "code",
   "execution_count": 4,
   "id": "dbf6042a-1501-44df-815c-ec084aeeaeb5",
   "metadata": {},
   "outputs": [],
   "source": [
    "cats.loc[cats.name == 'DVD плееры', 'name'] = 'DVD players'"
   ]
  },
  {
   "cell_type": "code",
   "execution_count": 5,
   "id": "ccc81b80-294a-4b41-9b89-e51ebfa9beba",
   "metadata": {},
   "outputs": [],
   "source": [
    "cats.loc[cats.name == 'Наушники', 'name'] = 'Headphones'"
   ]
  },
  {
   "cell_type": "code",
   "execution_count": 6,
   "id": "fb478b9e-0d6d-4af1-862b-6d8872f8be06",
   "metadata": {},
   "outputs": [],
   "source": [
    "cats.loc[cats.name == 'Кронштейны для телевизоров', 'name'] = 'TV brackets'"
   ]
  },
  {
   "cell_type": "code",
   "execution_count": 7,
   "id": "26a8b92e-656c-4900-beb5-c8f392358a3d",
   "metadata": {},
   "outputs": [],
   "source": [
    "cats.loc[cats.name == 'Музыкальные центры', 'name'] = 'Boombox'"
   ]
  },
  {
   "cell_type": "code",
   "execution_count": 8,
   "id": "d9a7cf8e-ec35-4b3d-b6c4-2535d036c5ec",
   "metadata": {},
   "outputs": [],
   "source": [
    "cats.loc[cats.name == 'Аудио, видео', 'name'] = 'Audio/video'"
   ]
  },
  {
   "cell_type": "code",
   "execution_count": 9,
   "id": "32954cbe-d73a-4480-8832-4ff610a17d35",
   "metadata": {},
   "outputs": [],
   "source": [
    "cats.loc[cats.name == 'Домашние кинотеатры', 'name'] = 'Home theatres'"
   ]
  },
  {
   "cell_type": "code",
   "execution_count": 10,
   "id": "1c96b22a-4bd4-4fd1-bde6-d893ca7744ad",
   "metadata": {},
   "outputs": [],
   "source": [
    "cats.loc[cats.name == 'Велосипеды', 'name'] = 'Bicycles'"
   ]
  },
  {
   "cell_type": "code",
   "execution_count": 11,
   "id": "dffd6525-6af0-47b0-9ae8-16773548f52c",
   "metadata": {},
   "outputs": [],
   "source": [
    "cats.loc[cats.name == 'Холодильники', 'name'] = 'Refrigerators'"
   ]
  },
  {
   "cell_type": "code",
   "execution_count": 12,
   "id": "2cd7ad4a-a620-4e5b-8a3c-93da76ba579a",
   "metadata": {},
   "outputs": [],
   "source": [
    "cats.loc[cats.name == 'Стиральные машины', 'name'] = 'Washing machines'"
   ]
  },
  {
   "cell_type": "code",
   "execution_count": 13,
   "id": "24390a1c-6ff3-4642-9cab-347f827a7ed6",
   "metadata": {},
   "outputs": [],
   "source": [
    "cats.loc[cats.name == 'Коляски', 'name'] = 'Strollers'"
   ]
  },
  {
   "cell_type": "code",
   "execution_count": 14,
   "id": "5a3e5d0d-473f-4f38-bdb4-4b7274c9bcee",
   "metadata": {},
   "outputs": [],
   "source": [
    "cats.loc[cats.name == 'Водонагреватели', 'name'] = 'Boilers'"
   ]
  },
  {
   "cell_type": "code",
   "execution_count": 15,
   "id": "a5928a24-9e1d-4a14-bfe5-579aac062e63",
   "metadata": {},
   "outputs": [],
   "source": [
    "cats.loc[cats.name == 'Вытяжки', 'name'] = 'Hoods'"
   ]
  },
  {
   "cell_type": "code",
   "execution_count": 16,
   "id": "3f7b715b-854f-406c-a035-cf73e251d9b9",
   "metadata": {},
   "outputs": [],
   "source": [
    "cats.loc[cats.name == 'Шины', 'name'] = 'Tires'"
   ]
  },
  {
   "cell_type": "code",
   "execution_count": 17,
   "id": "29eff84e-ecab-4540-8048-3a7ebccc96bb",
   "metadata": {},
   "outputs": [],
   "source": [
    "cats.loc[cats.name == 'Пылесосы', 'name'] = 'Hoovers'"
   ]
  },
  {
   "cell_type": "code",
   "execution_count": 18,
   "id": "5d0db027-993c-4044-994a-a3e6788831bc",
   "metadata": {},
   "outputs": [
    {
     "data": {
      "text/html": [
       "<div>\n",
       "<style scoped>\n",
       "    .dataframe tbody tr th:only-of-type {\n",
       "        vertical-align: middle;\n",
       "    }\n",
       "\n",
       "    .dataframe tbody tr th {\n",
       "        vertical-align: top;\n",
       "    }\n",
       "\n",
       "    .dataframe thead th {\n",
       "        text-align: right;\n",
       "    }\n",
       "</style>\n",
       "<table border=\"1\" class=\"dataframe\">\n",
       "  <thead>\n",
       "    <tr style=\"text-align: right;\">\n",
       "      <th></th>\n",
       "      <th>Unnamed: 0</th>\n",
       "      <th>category_id</th>\n",
       "      <th>parent_id</th>\n",
       "      <th>name</th>\n",
       "      <th>link_url</th>\n",
       "    </tr>\n",
       "  </thead>\n",
       "  <tbody>\n",
       "    <tr>\n",
       "      <th>0</th>\n",
       "      <td>0</td>\n",
       "      <td>925</td>\n",
       "      <td>1212.0</td>\n",
       "      <td>Сушилки для обуви</td>\n",
       "      <td>http://e96.ru/household_appliances/washing/sus...</td>\n",
       "    </tr>\n",
       "    <tr>\n",
       "      <th>1</th>\n",
       "      <td>1</td>\n",
       "      <td>776</td>\n",
       "      <td>683.0</td>\n",
       "      <td>Футбол</td>\n",
       "      <td>http://e96.ru/sporting_goods/football</td>\n",
       "    </tr>\n",
       "    <tr>\n",
       "      <th>2</th>\n",
       "      <td>2</td>\n",
       "      <td>735</td>\n",
       "      <td>1175.0</td>\n",
       "      <td>Комоды для ванн</td>\n",
       "      <td>http://e96.ru/furniture/bathroom/komody_dlja_vann</td>\n",
       "    </tr>\n",
       "    <tr>\n",
       "      <th>3</th>\n",
       "      <td>3</td>\n",
       "      <td>1513</td>\n",
       "      <td>1504.0</td>\n",
       "      <td>Домики для собак</td>\n",
       "      <td>http://e96.ru/zootovary/tovary_dlja_sobak/domi...</td>\n",
       "    </tr>\n",
       "    <tr>\n",
       "      <th>4</th>\n",
       "      <td>4</td>\n",
       "      <td>1357</td>\n",
       "      <td>1086.0</td>\n",
       "      <td>Кувалды</td>\n",
       "      <td>http://e96.ru/tools/hand_tools/kuvaldy</td>\n",
       "    </tr>\n",
       "    <tr>\n",
       "      <th>...</th>\n",
       "      <td>...</td>\n",
       "      <td>...</td>\n",
       "      <td>...</td>\n",
       "      <td>...</td>\n",
       "      <td>...</td>\n",
       "    </tr>\n",
       "    <tr>\n",
       "      <th>1323</th>\n",
       "      <td>1323</td>\n",
       "      <td>867</td>\n",
       "      <td>856.0</td>\n",
       "      <td>Секундомеры</td>\n",
       "      <td>http://e96.ru/sporting_goods/measuring_devices...</td>\n",
       "    </tr>\n",
       "    <tr>\n",
       "      <th>1324</th>\n",
       "      <td>1324</td>\n",
       "      <td>770</td>\n",
       "      <td>769.0</td>\n",
       "      <td>Груши</td>\n",
       "      <td>http://e96.ru/sporting_goods/martial_arts/grushi</td>\n",
       "    </tr>\n",
       "    <tr>\n",
       "      <th>1325</th>\n",
       "      <td>1325</td>\n",
       "      <td>1075</td>\n",
       "      <td>129.0</td>\n",
       "      <td>Дрели, шуруповерты, гайковерты</td>\n",
       "      <td>http://e96.ru/tools/drills</td>\n",
       "    </tr>\n",
       "    <tr>\n",
       "      <th>1326</th>\n",
       "      <td>1326</td>\n",
       "      <td>237</td>\n",
       "      <td>1211.0</td>\n",
       "      <td>Массажные ванночки для ног</td>\n",
       "      <td>http://e96.ru/household_appliances/health_and_...</td>\n",
       "    </tr>\n",
       "    <tr>\n",
       "      <th>1327</th>\n",
       "      <td>1327</td>\n",
       "      <td>832</td>\n",
       "      <td>779.0</td>\n",
       "      <td>Ласты</td>\n",
       "      <td>http://e96.ru/sporting_goods/swimming/lasty</td>\n",
       "    </tr>\n",
       "  </tbody>\n",
       "</table>\n",
       "<p>1328 rows × 5 columns</p>\n",
       "</div>"
      ],
      "text/plain": [
       "      Unnamed: 0  category_id  parent_id                            name  \\\n",
       "0              0          925     1212.0               Сушилки для обуви   \n",
       "1              1          776      683.0                          Футбол   \n",
       "2              2          735     1175.0                 Комоды для ванн   \n",
       "3              3         1513     1504.0                Домики для собак   \n",
       "4              4         1357     1086.0                         Кувалды   \n",
       "...          ...          ...        ...                             ...   \n",
       "1323        1323          867      856.0                     Секундомеры   \n",
       "1324        1324          770      769.0                           Груши   \n",
       "1325        1325         1075      129.0  Дрели, шуруповерты, гайковерты   \n",
       "1326        1326          237     1211.0      Массажные ванночки для ног   \n",
       "1327        1327          832      779.0                           Ласты   \n",
       "\n",
       "                                               link_url  \n",
       "0     http://e96.ru/household_appliances/washing/sus...  \n",
       "1                 http://e96.ru/sporting_goods/football  \n",
       "2     http://e96.ru/furniture/bathroom/komody_dlja_vann  \n",
       "3     http://e96.ru/zootovary/tovary_dlja_sobak/domi...  \n",
       "4                http://e96.ru/tools/hand_tools/kuvaldy  \n",
       "...                                                 ...  \n",
       "1323  http://e96.ru/sporting_goods/measuring_devices...  \n",
       "1324   http://e96.ru/sporting_goods/martial_arts/grushi  \n",
       "1325                         http://e96.ru/tools/drills  \n",
       "1326  http://e96.ru/household_appliances/health_and_...  \n",
       "1327        http://e96.ru/sporting_goods/swimming/lasty  \n",
       "\n",
       "[1328 rows x 5 columns]"
      ]
     },
     "execution_count": 18,
     "metadata": {},
     "output_type": "execute_result"
    }
   ],
   "source": [
    "cats"
   ]
  },
  {
   "cell_type": "code",
   "execution_count": 27,
   "id": "7b945308-9fc8-4afd-9855-93a7e1c4e123",
   "metadata": {},
   "outputs": [],
   "source": [
    "cats = cats.drop('Unnamed: 0', axis=1)"
   ]
  },
  {
   "cell_type": "code",
   "execution_count": 29,
   "id": "965cbbf2-d5c9-42a7-9f42-a25ccd3e3c28",
   "metadata": {},
   "outputs": [],
   "source": [
    "cats.to_csv('categories.csv')"
   ]
  },
  {
   "cell_type": "code",
   "execution_count": null,
   "id": "d6e779a1-3fe1-4d84-a041-8936d7beabf3",
   "metadata": {},
   "outputs": [],
   "source": []
  }
 ],
 "metadata": {
  "kernelspec": {
   "display_name": "Python 3 (ipykernel)",
   "language": "python",
   "name": "python3"
  },
  "language_info": {
   "codemirror_mode": {
    "name": "ipython",
    "version": 3
   },
   "file_extension": ".py",
   "mimetype": "text/x-python",
   "name": "python",
   "nbconvert_exporter": "python",
   "pygments_lexer": "ipython3",
   "version": "3.9.12"
  }
 },
 "nbformat": 4,
 "nbformat_minor": 5
}
