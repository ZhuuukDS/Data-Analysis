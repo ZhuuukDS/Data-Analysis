{
 "cells": [
  {
   "cell_type": "markdown",
   "id": "d3e22d84-3657-41f5-b337-82bc756049fd",
   "metadata": {},
   "source": [
    "# Chess Games Results Exploratory Analysis\n",
    "________"
   ]
  },
  {
   "cell_type": "markdown",
   "id": "5f246cd9-0585-4736-9450-c556585e9b93",
   "metadata": {},
   "source": [
    "## Overview\n",
    "In this project I will explore the __'First-move advantage in chess'__ thesis.\n",
    "\n",
    "**[First-move advantage in chess](https://en.wikipedia.org/wiki/First-move_advantage_in_chess)** — there is a general consensus among chess players and theorists that the player who makes the first move (White) has an inherent advantage.\n",
    "\n",
    "So, I'm going to check this statement based on the dataset from **[Kaggle](https://www.kaggle.com/datasnaek/chess)**.\n",
    "\n",
    "I will use the following libraries:"
   ]
  },
  {
   "cell_type": "code",
   "execution_count": 1,
   "id": "670e70b2-4869-4bf4-b13c-13abf42c9649",
   "metadata": {},
   "outputs": [],
   "source": [
    "import pandas as pd\n",
    "import matplotlib.pyplot as plt\n",
    "import seaborn as sns\n",
    "#%matplotlib inline"
   ]
  },
  {
   "cell_type": "markdown",
   "id": "faed7de0-6d48-4ec0-a34f-8781a032ce28",
   "metadata": {},
   "source": [
    "## Importing Data"
   ]
  },
  {
   "cell_type": "code",
   "execution_count": 2,
   "id": "675f6bc9-2a1e-4078-990d-0a588186dbb0",
   "metadata": {},
   "outputs": [],
   "source": [
    "df = pd.read_csv('games.csv')"
   ]
  },
  {
   "cell_type": "code",
   "execution_count": 3,
   "id": "e2a38ce8-b15a-4ce5-9125-db1b1c3a4ffe",
   "metadata": {},
   "outputs": [
    {
     "data": {
      "text/plain": [
       "Index(['id', 'rated', 'created_at', 'last_move_at', 'turns', 'victory_status',\n",
       "       'winner', 'increment_code', 'white_id', 'white_rating', 'black_id',\n",
       "       'black_rating', 'moves', 'opening_eco', 'opening_name', 'opening_ply'],\n",
       "      dtype='object')"
      ]
     },
     "execution_count": 3,
     "metadata": {},
     "output_type": "execute_result"
    }
   ],
   "source": [
    "df.columns"
   ]
  },
  {
   "cell_type": "code",
   "execution_count": 4,
   "id": "29ac1271-f91b-4452-bb83-8889b248a8b8",
   "metadata": {},
   "outputs": [
    {
     "data": {
      "text/plain": [
       "(20058, 16)"
      ]
     },
     "execution_count": 4,
     "metadata": {},
     "output_type": "execute_result"
    }
   ],
   "source": [
    "df.shape"
   ]
  },
  {
   "cell_type": "code",
   "execution_count": 5,
   "id": "07813af0-590c-4fd3-aa69-cb24a39ce1f9",
   "metadata": {},
   "outputs": [
    {
     "data": {
      "text/plain": [
       "id                0\n",
       "rated             0\n",
       "created_at        0\n",
       "last_move_at      0\n",
       "turns             0\n",
       "victory_status    0\n",
       "winner            0\n",
       "increment_code    0\n",
       "white_id          0\n",
       "white_rating      0\n",
       "black_id          0\n",
       "black_rating      0\n",
       "moves             0\n",
       "opening_eco       0\n",
       "opening_name      0\n",
       "opening_ply       0\n",
       "dtype: int64"
      ]
     },
     "execution_count": 5,
     "metadata": {},
     "output_type": "execute_result"
    }
   ],
   "source": [
    "df.isna().sum()"
   ]
  },
  {
   "cell_type": "markdown",
   "id": "e846d33c-b221-4354-b9c5-844bc9e000ad",
   "metadata": {},
   "source": [
    "Dataset is clean, no missing values"
   ]
  },
  {
   "cell_type": "markdown",
   "id": "deb982e3-553d-4957-ba15-cf7b336e5fae",
   "metadata": {},
   "source": [
    "## Analytics"
   ]
  },
  {
   "cell_type": "markdown",
   "id": "b93ba07b-89cf-45fa-bf78-90120356c7a5",
   "metadata": {},
   "source": [
    "### Overall\n",
    "\n",
    "Let's see the total results in our dataset"
   ]
  },
  {
   "cell_type": "code",
   "execution_count": 6,
   "id": "2bb666fa-9456-463a-adc4-4eb2edc230a0",
   "metadata": {},
   "outputs": [
    {
     "data": {
      "text/html": [
       "<div>\n",
       "<style scoped>\n",
       "    .dataframe tbody tr th:only-of-type {\n",
       "        vertical-align: middle;\n",
       "    }\n",
       "\n",
       "    .dataframe tbody tr th {\n",
       "        vertical-align: top;\n",
       "    }\n",
       "\n",
       "    .dataframe thead th {\n",
       "        text-align: right;\n",
       "    }\n",
       "</style>\n",
       "<table border=\"1\" class=\"dataframe\">\n",
       "  <thead>\n",
       "    <tr style=\"text-align: right;\">\n",
       "      <th></th>\n",
       "      <th>winner</th>\n",
       "      <th>wins</th>\n",
       "      <th>share,%</th>\n",
       "    </tr>\n",
       "  </thead>\n",
       "  <tbody>\n",
       "    <tr>\n",
       "      <th>0</th>\n",
       "      <td>black</td>\n",
       "      <td>9107</td>\n",
       "      <td>45.40</td>\n",
       "    </tr>\n",
       "    <tr>\n",
       "      <th>1</th>\n",
       "      <td>draw</td>\n",
       "      <td>950</td>\n",
       "      <td>4.74</td>\n",
       "    </tr>\n",
       "    <tr>\n",
       "      <th>2</th>\n",
       "      <td>white</td>\n",
       "      <td>10001</td>\n",
       "      <td>49.86</td>\n",
       "    </tr>\n",
       "  </tbody>\n",
       "</table>\n",
       "</div>"
      ],
      "text/plain": [
       "  winner   wins  share,%\n",
       "0  black   9107    45.40\n",
       "1   draw    950     4.74\n",
       "2  white  10001    49.86"
      ]
     },
     "execution_count": 6,
     "metadata": {},
     "output_type": "execute_result"
    }
   ],
   "source": [
    "overall = df.groupby('winner', as_index=False).agg(wins= ('winner', 'count'))\n",
    "overall['share,%'] = round(overall.wins / overall.wins.sum() * 100, 2)\n",
    "overall"
   ]
  },
  {
   "cell_type": "markdown",
   "id": "60f079f2-a506-4528-8e8c-26bb7eec6300",
   "metadata": {},
   "source": [
    "__Seems that indeed `White` win more often in general__"
   ]
  },
  {
   "cell_type": "code",
   "execution_count": 7,
   "id": "e24b27e2-c1de-4612-b91b-8337d2d52f5c",
   "metadata": {},
   "outputs": [
    {
     "data": {
      "image/png": "[encoded data removed]",
      "text/plain": [
       "<Figure size 576x360 with 1 Axes>"
      ]
     },
     "metadata": {
      "needs_background": "light"
     },
     "output_type": "display_data"
    }
   ],
   "source": [
    "plt.figure(figsize=(8, 5))\n",
    "sns.set_theme(context='talk', style='darkgrid', palette= 'Set2', font='sans-serif', font_scale=0.8, color_codes=True, rc=None)\n",
    "sns.barplot(x='wins', y='winner', data=overall).set(xlabel='Number of wins', ylabel='Game result', title='Total game results')\n",
    "plt.savefig('gen.png')\n",
    "plt.show()"
   ]
  },
  {
   "cell_type": "markdown",
   "id": "858e5843-ba14-4cff-b5b4-69ef3faf79d9",
   "metadata": {},
   "source": [
    "### By game type"
   ]
  },
  {
   "cell_type": "markdown",
   "id": "8ed00f81-5789-49bf-9805-cc2eeec8be3a",
   "metadata": {},
   "source": [
    "The game type determines the time limit for the whole game (min) + time added after each move (sec).\n",
    "Let's group the data by the type of games (400 in the sample) and their number in descending order.\n",
    "\n",
    "Top 10 most popular game types and their win percentage:"
   ]
  },
  {
   "cell_type": "code",
   "execution_count": 8,
   "id": "f3e615a9-c64f-4cb2-b56a-5397043c21c2",
   "metadata": {},
   "outputs": [],
   "source": [
    "data_game_type = df.loc[:,['id','increment_code']].join(pd.get_dummies(df.winner))\n",
    "data_game_type = data_game_type.groupby('increment_code') \\\n",
    "    .agg(Number_of_games=('id', 'count'), \n",
    "         Black_won = ('black', 'sum'), \n",
    "         White_won = ('white', 'sum'),\n",
    "         Draw = ('draw', 'sum')) \\\n",
    "    .sort_values('Number_of_games', ascending=False)"
   ]
  },
  {
   "cell_type": "code",
   "execution_count": 9,
   "id": "286524f3-c91c-464e-b57a-6c50e4642225",
   "metadata": {},
   "outputs": [],
   "source": [
    "# add some new columns, like percentage of `white won`, `black won` and `draw` results and the difference\n",
    "data_game_type = data_game_type.assign(black_won_perc = round(data_game_type.Black_won/data_game_type.Number_of_games * 100, 2),\n",
    "                  white_won_perc = round(data_game_type.White_won/data_game_type.Number_of_games * 100, 2),\n",
    "                  draw_perc = round(data_game_type.Draw/data_game_type.Number_of_games * 100, 2),\n",
    "                  w_b_perc = round((data_game_type.White_won-data_game_type.Black_won)/data_game_type.Number_of_games * 100 ,2)) \\\n",
    "    .sort_values('Number_of_games', ascending=False)"
   ]
  },
  {
   "cell_type": "code",
   "execution_count": 10,
   "id": "ccb62880-486c-463b-8730-3970493df9b4",
   "metadata": {},
   "outputs": [
    {
     "data": {
      "text/html": [
       "<div>\n",
       "<style scoped>\n",
       "    .dataframe tbody tr th:only-of-type {\n",
       "        vertical-align: middle;\n",
       "    }\n",
       "\n",
       "    .dataframe tbody tr th {\n",
       "        vertical-align: top;\n",
       "    }\n",
       "\n",
       "    .dataframe thead th {\n",
       "        text-align: right;\n",
       "    }\n",
       "</style>\n",
       "<table border=\"1\" class=\"dataframe\">\n",
       "  <thead>\n",
       "    <tr style=\"text-align: right;\">\n",
       "      <th></th>\n",
       "      <th>Number_of_games</th>\n",
       "      <th>Black_won</th>\n",
       "      <th>White_won</th>\n",
       "      <th>Draw</th>\n",
       "      <th>black_won_perc</th>\n",
       "      <th>white_won_perc</th>\n",
       "      <th>draw_perc</th>\n",
       "      <th>w_b_perc</th>\n",
       "    </tr>\n",
       "    <tr>\n",
       "      <th>increment_code</th>\n",
       "      <th></th>\n",
       "      <th></th>\n",
       "      <th></th>\n",
       "      <th></th>\n",
       "      <th></th>\n",
       "      <th></th>\n",
       "      <th></th>\n",
       "      <th></th>\n",
       "    </tr>\n",
       "  </thead>\n",
       "  <tbody>\n",
       "    <tr>\n",
       "      <th>10+0</th>\n",
       "      <td>7721</td>\n",
       "      <td>3561.0</td>\n",
       "      <td>3844.0</td>\n",
       "      <td>316.0</td>\n",
       "      <td>46.12</td>\n",
       "      <td>49.79</td>\n",
       "      <td>4.09</td>\n",
       "      <td>3.67</td>\n",
       "    </tr>\n",
       "    <tr>\n",
       "      <th>15+0</th>\n",
       "      <td>1311</td>\n",
       "      <td>603.0</td>\n",
       "      <td>656.0</td>\n",
       "      <td>52.0</td>\n",
       "      <td>46.00</td>\n",
       "      <td>50.04</td>\n",
       "      <td>3.97</td>\n",
       "      <td>4.04</td>\n",
       "    </tr>\n",
       "    <tr>\n",
       "      <th>15+15</th>\n",
       "      <td>850</td>\n",
       "      <td>394.0</td>\n",
       "      <td>417.0</td>\n",
       "      <td>39.0</td>\n",
       "      <td>46.35</td>\n",
       "      <td>49.06</td>\n",
       "      <td>4.59</td>\n",
       "      <td>2.71</td>\n",
       "    </tr>\n",
       "    <tr>\n",
       "      <th>5+5</th>\n",
       "      <td>738</td>\n",
       "      <td>330.0</td>\n",
       "      <td>379.0</td>\n",
       "      <td>29.0</td>\n",
       "      <td>44.72</td>\n",
       "      <td>51.36</td>\n",
       "      <td>3.93</td>\n",
       "      <td>6.64</td>\n",
       "    </tr>\n",
       "    <tr>\n",
       "      <th>5+8</th>\n",
       "      <td>697</td>\n",
       "      <td>327.0</td>\n",
       "      <td>346.0</td>\n",
       "      <td>24.0</td>\n",
       "      <td>46.92</td>\n",
       "      <td>49.64</td>\n",
       "      <td>3.44</td>\n",
       "      <td>2.73</td>\n",
       "    </tr>\n",
       "    <tr>\n",
       "      <th>8+0</th>\n",
       "      <td>588</td>\n",
       "      <td>260.0</td>\n",
       "      <td>294.0</td>\n",
       "      <td>34.0</td>\n",
       "      <td>44.22</td>\n",
       "      <td>50.00</td>\n",
       "      <td>5.78</td>\n",
       "      <td>5.78</td>\n",
       "    </tr>\n",
       "    <tr>\n",
       "      <th>10+5</th>\n",
       "      <td>579</td>\n",
       "      <td>273.0</td>\n",
       "      <td>285.0</td>\n",
       "      <td>21.0</td>\n",
       "      <td>47.15</td>\n",
       "      <td>49.22</td>\n",
       "      <td>3.63</td>\n",
       "      <td>2.07</td>\n",
       "    </tr>\n",
       "    <tr>\n",
       "      <th>15+10</th>\n",
       "      <td>461</td>\n",
       "      <td>190.0</td>\n",
       "      <td>235.0</td>\n",
       "      <td>36.0</td>\n",
       "      <td>41.21</td>\n",
       "      <td>50.98</td>\n",
       "      <td>7.81</td>\n",
       "      <td>9.76</td>\n",
       "    </tr>\n",
       "    <tr>\n",
       "      <th>20+0</th>\n",
       "      <td>448</td>\n",
       "      <td>206.0</td>\n",
       "      <td>223.0</td>\n",
       "      <td>19.0</td>\n",
       "      <td>45.98</td>\n",
       "      <td>49.78</td>\n",
       "      <td>4.24</td>\n",
       "      <td>3.79</td>\n",
       "    </tr>\n",
       "    <tr>\n",
       "      <th>30+0</th>\n",
       "      <td>375</td>\n",
       "      <td>171.0</td>\n",
       "      <td>185.0</td>\n",
       "      <td>19.0</td>\n",
       "      <td>45.60</td>\n",
       "      <td>49.33</td>\n",
       "      <td>5.07</td>\n",
       "      <td>3.73</td>\n",
       "    </tr>\n",
       "  </tbody>\n",
       "</table>\n",
       "</div>"
      ],
      "text/plain": [
       "                Number_of_games  Black_won  White_won   Draw  black_won_perc  \\\n",
       "increment_code                                                                 \n",
       "10+0                       7721     3561.0     3844.0  316.0           46.12   \n",
       "15+0                       1311      603.0      656.0   52.0           46.00   \n",
       "15+15                       850      394.0      417.0   39.0           46.35   \n",
       "5+5                         738      330.0      379.0   29.0           44.72   \n",
       "5+8                         697      327.0      346.0   24.0           46.92   \n",
       "8+0                         588      260.0      294.0   34.0           44.22   \n",
       "10+5                        579      273.0      285.0   21.0           47.15   \n",
       "15+10                       461      190.0      235.0   36.0           41.21   \n",
       "20+0                        448      206.0      223.0   19.0           45.98   \n",
       "30+0                        375      171.0      185.0   19.0           45.60   \n",
       "\n",
       "                white_won_perc  draw_perc  w_b_perc  \n",
       "increment_code                                       \n",
       "10+0                     49.79       4.09      3.67  \n",
       "15+0                     50.04       3.97      4.04  \n",
       "15+15                    49.06       4.59      2.71  \n",
       "5+5                      51.36       3.93      6.64  \n",
       "5+8                      49.64       3.44      2.73  \n",
       "8+0                      50.00       5.78      5.78  \n",
       "10+5                     49.22       3.63      2.07  \n",
       "15+10                    50.98       7.81      9.76  \n",
       "20+0                     49.78       4.24      3.79  \n",
       "30+0                     49.33       5.07      3.73  "
      ]
     },
     "execution_count": 10,
     "metadata": {},
     "output_type": "execute_result"
    }
   ],
   "source": [
    "data_game_type.head(10)"
   ]
  },
  {
   "cell_type": "code",
   "execution_count": 11,
   "id": "ced29705-d0f6-48e8-8b07-730096b7efd9",
   "metadata": {},
   "outputs": [
    {
     "data": {
      "image/png": "[encoded data removed]",
      "text/plain": [
       "<Figure size 864x360 with 1 Axes>"
      ]
     },
     "metadata": {},
     "output_type": "display_data"
    }
   ],
   "source": [
    "result = data_game_type.w_b_perc.apply(lambda x: 'white won' if x>0 else 'black won' if x<0 else 'draw').rename('result')\n",
    "plt.figure(figsize=(12,5))\n",
    "sns.scatterplot(x='increment_code', y='w_b_perc', data=data_game_type.head(100), hue=result).set(xlabel='Game type', ylabel='WB Difference (White won: > 0 \\n Black won: < 0, Draw: 0 )')\n",
    "plt.xticks(\n",
    "    rotation=90, \n",
    "    horizontalalignment='right',\n",
    "    fontweight='light',\n",
    "    fontsize='x-small')\n",
    "plt.show()"
   ]
  },
  {
   "cell_type": "code",
   "execution_count": 12,
   "id": "a15e0e9b-6b6b-4439-bcf3-c39afc4a034d",
   "metadata": {},
   "outputs": [
    {
     "data": {
      "text/plain": [
       "white won    63\n",
       "black won    30\n",
       "draw          7\n",
       "Name: result, dtype: int64"
      ]
     },
     "execution_count": 12,
     "metadata": {},
     "output_type": "execute_result"
    }
   ],
   "source": [
    "result.iloc[:100].value_counts()"
   ]
  },
  {
   "cell_type": "markdown",
   "id": "f73baf45-5d5a-468d-aa5c-2eaf505f750c",
   "metadata": {},
   "source": [
    "__So, white won more often in 63 game types out of 100__ <br>\n",
    "__Black won more often in 30 game types out of 100__"
   ]
  },
  {
   "cell_type": "markdown",
   "id": "3029269d-d236-4087-9279-c6fa051879c8",
   "metadata": {},
   "source": [
    "### By debut type"
   ]
  },
  {
   "cell_type": "markdown",
   "id": "dcef237e-6c5c-42ab-b745-cea24d29d74d",
   "metadata": {},
   "source": [
    "Let's group games by the [ECO](https://www.365chess.com/eco.php) code of the debut (total 365 in a dataset) and by their amount in descending order.\n",
    "\n",
    "Top 10 game debuts and their results:"
   ]
  },
  {
   "cell_type": "code",
   "execution_count": 13,
   "id": "76d21a9e-5e0b-4b4f-8617-4f51aa43f418",
   "metadata": {},
   "outputs": [],
   "source": [
    "data_debut_type = df.loc[:,['id','opening_eco']].join(pd.get_dummies(df.winner)) \\\n",
    "    .groupby('opening_eco') \\\n",
    "    .agg(Number_of_games=('id', 'count'), \n",
    "         Black_won = ('black', 'sum'), \n",
    "         White_won = ('white', 'sum'),\n",
    "         Draw = ('draw', 'sum')) \\\n",
    "    .sort_values('Number_of_games', ascending=False)\n",
    "data_debut_type= data_debut_type.assign(black_won_perc = round(data_debut_type.Black_won/data_debut_type.Number_of_games * 100, 2),\n",
    "                  white_won_perc = round(data_debut_type.White_won/data_debut_type.Number_of_games * 100, 2),\n",
    "                  draw_perc = round(data_debut_type.Draw/data_debut_type.Number_of_games * 100, 2),\n",
    "                  w_b_perc = round((data_debut_type.White_won-data_debut_type.Black_won)/data_debut_type.Number_of_games * 100 ,2)) \\\n",
    "    .sort_values('Number_of_games', ascending=False)"
   ]
  },
  {
   "cell_type": "code",
   "execution_count": 14,
   "id": "7c8257a8-c085-4587-a722-0c386a1e4963",
   "metadata": {},
   "outputs": [
    {
     "data": {
      "text/html": [
       "<div>\n",
       "<style scoped>\n",
       "    .dataframe tbody tr th:only-of-type {\n",
       "        vertical-align: middle;\n",
       "    }\n",
       "\n",
       "    .dataframe tbody tr th {\n",
       "        vertical-align: top;\n",
       "    }\n",
       "\n",
       "    .dataframe thead th {\n",
       "        text-align: right;\n",
       "    }\n",
       "</style>\n",
       "<table border=\"1\" class=\"dataframe\">\n",
       "  <thead>\n",
       "    <tr style=\"text-align: right;\">\n",
       "      <th></th>\n",
       "      <th>Number_of_games</th>\n",
       "      <th>Black_won</th>\n",
       "      <th>White_won</th>\n",
       "      <th>Draw</th>\n",
       "      <th>black_won_perc</th>\n",
       "      <th>white_won_perc</th>\n",
       "      <th>draw_perc</th>\n",
       "      <th>w_b_perc</th>\n",
       "    </tr>\n",
       "    <tr>\n",
       "      <th>opening_eco</th>\n",
       "      <th></th>\n",
       "      <th></th>\n",
       "      <th></th>\n",
       "      <th></th>\n",
       "      <th></th>\n",
       "      <th></th>\n",
       "      <th></th>\n",
       "      <th></th>\n",
       "    </tr>\n",
       "  </thead>\n",
       "  <tbody>\n",
       "    <tr>\n",
       "      <th>A00</th>\n",
       "      <td>1007</td>\n",
       "      <td>570.0</td>\n",
       "      <td>398.0</td>\n",
       "      <td>39</td>\n",
       "      <td>56.60</td>\n",
       "      <td>39.52</td>\n",
       "      <td>3.87</td>\n",
       "      <td>-17.08</td>\n",
       "    </tr>\n",
       "    <tr>\n",
       "      <th>C00</th>\n",
       "      <td>844</td>\n",
       "      <td>389.0</td>\n",
       "      <td>417.0</td>\n",
       "      <td>38</td>\n",
       "      <td>46.09</td>\n",
       "      <td>49.41</td>\n",
       "      <td>4.50</td>\n",
       "      <td>3.32</td>\n",
       "    </tr>\n",
       "    <tr>\n",
       "      <th>D00</th>\n",
       "      <td>739</td>\n",
       "      <td>360.0</td>\n",
       "      <td>341.0</td>\n",
       "      <td>38</td>\n",
       "      <td>48.71</td>\n",
       "      <td>46.14</td>\n",
       "      <td>5.14</td>\n",
       "      <td>-2.57</td>\n",
       "    </tr>\n",
       "    <tr>\n",
       "      <th>B01</th>\n",
       "      <td>716</td>\n",
       "      <td>332.0</td>\n",
       "      <td>358.0</td>\n",
       "      <td>26</td>\n",
       "      <td>46.37</td>\n",
       "      <td>50.00</td>\n",
       "      <td>3.63</td>\n",
       "      <td>3.63</td>\n",
       "    </tr>\n",
       "    <tr>\n",
       "      <th>C41</th>\n",
       "      <td>691</td>\n",
       "      <td>267.0</td>\n",
       "      <td>396.0</td>\n",
       "      <td>28</td>\n",
       "      <td>38.64</td>\n",
       "      <td>57.31</td>\n",
       "      <td>4.05</td>\n",
       "      <td>18.67</td>\n",
       "    </tr>\n",
       "    <tr>\n",
       "      <th>C20</th>\n",
       "      <td>675</td>\n",
       "      <td>355.0</td>\n",
       "      <td>299.0</td>\n",
       "      <td>21</td>\n",
       "      <td>52.59</td>\n",
       "      <td>44.30</td>\n",
       "      <td>3.11</td>\n",
       "      <td>-8.30</td>\n",
       "    </tr>\n",
       "    <tr>\n",
       "      <th>A40</th>\n",
       "      <td>618</td>\n",
       "      <td>261.0</td>\n",
       "      <td>338.0</td>\n",
       "      <td>19</td>\n",
       "      <td>42.23</td>\n",
       "      <td>54.69</td>\n",
       "      <td>3.07</td>\n",
       "      <td>12.46</td>\n",
       "    </tr>\n",
       "    <tr>\n",
       "      <th>B00</th>\n",
       "      <td>611</td>\n",
       "      <td>218.0</td>\n",
       "      <td>365.0</td>\n",
       "      <td>28</td>\n",
       "      <td>35.68</td>\n",
       "      <td>59.74</td>\n",
       "      <td>4.58</td>\n",
       "      <td>24.06</td>\n",
       "    </tr>\n",
       "    <tr>\n",
       "      <th>B20</th>\n",
       "      <td>567</td>\n",
       "      <td>320.0</td>\n",
       "      <td>223.0</td>\n",
       "      <td>24</td>\n",
       "      <td>56.44</td>\n",
       "      <td>39.33</td>\n",
       "      <td>4.23</td>\n",
       "      <td>-17.11</td>\n",
       "    </tr>\n",
       "    <tr>\n",
       "      <th>C50</th>\n",
       "      <td>538</td>\n",
       "      <td>268.0</td>\n",
       "      <td>240.0</td>\n",
       "      <td>30</td>\n",
       "      <td>49.81</td>\n",
       "      <td>44.61</td>\n",
       "      <td>5.58</td>\n",
       "      <td>-5.20</td>\n",
       "    </tr>\n",
       "  </tbody>\n",
       "</table>\n",
       "</div>"
      ],
      "text/plain": [
       "             Number_of_games  Black_won  White_won  Draw  black_won_perc  \\\n",
       "opening_eco                                                                \n",
       "A00                     1007      570.0      398.0    39           56.60   \n",
       "C00                      844      389.0      417.0    38           46.09   \n",
       "D00                      739      360.0      341.0    38           48.71   \n",
       "B01                      716      332.0      358.0    26           46.37   \n",
       "C41                      691      267.0      396.0    28           38.64   \n",
       "C20                      675      355.0      299.0    21           52.59   \n",
       "A40                      618      261.0      338.0    19           42.23   \n",
       "B00                      611      218.0      365.0    28           35.68   \n",
       "B20                      567      320.0      223.0    24           56.44   \n",
       "C50                      538      268.0      240.0    30           49.81   \n",
       "\n",
       "             white_won_perc  draw_perc  w_b_perc  \n",
       "opening_eco                                       \n",
       "A00                   39.52       3.87    -17.08  \n",
       "C00                   49.41       4.50      3.32  \n",
       "D00                   46.14       5.14     -2.57  \n",
       "B01                   50.00       3.63      3.63  \n",
       "C41                   57.31       4.05     18.67  \n",
       "C20                   44.30       3.11     -8.30  \n",
       "A40                   54.69       3.07     12.46  \n",
       "B00                   59.74       4.58     24.06  \n",
       "B20                   39.33       4.23    -17.11  \n",
       "C50                   44.61       5.58     -5.20  "
      ]
     },
     "execution_count": 14,
     "metadata": {},
     "output_type": "execute_result"
    }
   ],
   "source": [
    "data_debut_type.head(10)"
   ]
  },
  {
   "cell_type": "markdown",
   "id": "4247d404-6ec2-43af-aa45-90e5ddc058ac",
   "metadata": {},
   "source": [
    "Top 100 debuts and their win percentage differences:"
   ]
  },
  {
   "cell_type": "code",
   "execution_count": 15,
   "id": "14283ddb-db4b-434f-ad39-fceb372a5c08",
   "metadata": {},
   "outputs": [
    {
     "data": {
      "image/png": "[encoded data removed]",
      "text/plain": [
       "<Figure size 864x360 with 1 Axes>"
      ]
     },
     "metadata": {},
     "output_type": "display_data"
    }
   ],
   "source": [
    "result = data_debut_type.w_b_perc.apply(lambda x: 'white won' if x>0 else 'black won' if x<0 else 'draw').rename('result')\n",
    "plt.figure(figsize=(12,5))\n",
    "\n",
    "sns.scatterplot(x='opening_eco', y='w_b_perc', data=data_debut_type.iloc[:100], hue=result) \\\n",
    "    .set(xlabel='Debut type', ylabel='WB Difference (White won: > 0 \\n Black won: < 0, Draw: 0 )')\n",
    "\n",
    "plt.xticks(\n",
    "    rotation=90, \n",
    "    horizontalalignment='right',\n",
    "    fontweight='light',\n",
    "    fontsize='x-small')\n",
    "plt.show()"
   ]
  },
  {
   "cell_type": "code",
   "execution_count": 16,
   "id": "00f0a995-9c5f-40f1-8bd9-0e6507ff326d",
   "metadata": {},
   "outputs": [
    {
     "data": {
      "text/plain": [
       "white won    63\n",
       "black won    36\n",
       "draw          1\n",
       "Name: result, dtype: int64"
      ]
     },
     "execution_count": 16,
     "metadata": {},
     "output_type": "execute_result"
    }
   ],
   "source": [
    "result.iloc[:100].value_counts()"
   ]
  },
  {
   "cell_type": "markdown",
   "id": "29966328-56c7-44fd-9703-738b3870bb00",
   "metadata": {},
   "source": [
    "__So, white won more often in 63 openings out of 100__ <br>\n",
    "__Black won more often in 36 openings out of 100__"
   ]
  },
  {
   "cell_type": "markdown",
   "id": "64892848-1f24-4194-a1ca-fa9f2ddcae9f",
   "metadata": {},
   "source": [
    "### By player rating"
   ]
  },
  {
   "cell_type": "markdown",
   "id": "e9ba1540-d0f1-4453-bb6e-81aa57d1131c",
   "metadata": {},
   "source": [
    "Let's explore the rating of participants. We'll see the game results where the difference in players' rating is less than 40 points"
   ]
  },
  {
   "cell_type": "code",
   "execution_count": 17,
   "id": "95387dfa-86a2-45b0-bb37-f9bf3aa49fd5",
   "metadata": {},
   "outputs": [],
   "source": [
    "data_rating = df[['white_rating', 'black_rating', 'winner']]"
   ]
  },
  {
   "cell_type": "code",
   "execution_count": 18,
   "id": "38d3f7d1-e191-40f2-8e26-44e78d100e06",
   "metadata": {},
   "outputs": [
    {
     "data": {
      "text/html": [
       "<div>\n",
       "<style scoped>\n",
       "    .dataframe tbody tr th:only-of-type {\n",
       "        vertical-align: middle;\n",
       "    }\n",
       "\n",
       "    .dataframe tbody tr th {\n",
       "        vertical-align: top;\n",
       "    }\n",
       "\n",
       "    .dataframe thead th {\n",
       "        text-align: right;\n",
       "    }\n",
       "</style>\n",
       "<table border=\"1\" class=\"dataframe\">\n",
       "  <thead>\n",
       "    <tr style=\"text-align: right;\">\n",
       "      <th></th>\n",
       "      <th>white_rating</th>\n",
       "      <th>black_rating</th>\n",
       "      <th>winner</th>\n",
       "    </tr>\n",
       "  </thead>\n",
       "  <tbody>\n",
       "    <tr>\n",
       "      <th>0</th>\n",
       "      <td>1500</td>\n",
       "      <td>1191</td>\n",
       "      <td>white</td>\n",
       "    </tr>\n",
       "    <tr>\n",
       "      <th>1</th>\n",
       "      <td>1322</td>\n",
       "      <td>1261</td>\n",
       "      <td>black</td>\n",
       "    </tr>\n",
       "    <tr>\n",
       "      <th>2</th>\n",
       "      <td>1496</td>\n",
       "      <td>1500</td>\n",
       "      <td>white</td>\n",
       "    </tr>\n",
       "    <tr>\n",
       "      <th>3</th>\n",
       "      <td>1439</td>\n",
       "      <td>1454</td>\n",
       "      <td>white</td>\n",
       "    </tr>\n",
       "    <tr>\n",
       "      <th>4</th>\n",
       "      <td>1523</td>\n",
       "      <td>1469</td>\n",
       "      <td>white</td>\n",
       "    </tr>\n",
       "  </tbody>\n",
       "</table>\n",
       "</div>"
      ],
      "text/plain": [
       "   white_rating  black_rating winner\n",
       "0          1500          1191  white\n",
       "1          1322          1261  black\n",
       "2          1496          1500  white\n",
       "3          1439          1454  white\n",
       "4          1523          1469  white"
      ]
     },
     "execution_count": 18,
     "metadata": {},
     "output_type": "execute_result"
    }
   ],
   "source": [
    "data_rating.head()"
   ]
  },
  {
   "cell_type": "markdown",
   "id": "01e0fcc4-3833-4b56-bb1e-883c41529551",
   "metadata": {},
   "source": [
    "__Here we can see that the difference between `white` and `black` wins is quite small.__"
   ]
  },
  {
   "cell_type": "code",
   "execution_count": 19,
   "id": "556f2be2-dd68-4ccd-9209-ad0054edcc10",
   "metadata": {},
   "outputs": [
    {
     "data": {
      "text/plain": [
       "winner\n",
       "black    2108\n",
       "draw      237\n",
       "white    2278\n",
       "Name: winner, dtype: int64"
      ]
     },
     "execution_count": 19,
     "metadata": {},
     "output_type": "execute_result"
    }
   ],
   "source": [
    "data_rating[abs(data_rating.white_rating - data_rating.black_rating) <= 40].groupby('winner').winner.count()"
   ]
  },
  {
   "cell_type": "code",
   "execution_count": 20,
   "id": "57164a44-816f-44a6-8e9e-64084d99520c",
   "metadata": {},
   "outputs": [],
   "source": [
    "difference = []\n",
    "for i in range(1, 101, 1):\n",
    "    d = data_rating[abs(data_rating.white_rating - data_rating.black_rating) <= i].groupby('winner').winner.count()\n",
    "    difference.append(d[2] - d[0])"
   ]
  },
  {
   "cell_type": "code",
   "execution_count": 21,
   "id": "53a33cf5-80eb-45d0-a848-00c6cd2fb638",
   "metadata": {},
   "outputs": [
    {
     "data": {
      "text/plain": [
       "[<matplotlib.lines.Line2D at 0x2c02523df70>]"
      ]
     },
     "execution_count": 21,
     "metadata": {},
     "output_type": "execute_result"
    },
    {
     "data": {
      "image/png": "[encoded data removed]",
      "text/plain": [
       "<Figure size 432x288 with 1 Axes>"
      ]
     },
     "metadata": {},
     "output_type": "display_data"
    }
   ],
   "source": [
    "plt.plot(difference)"
   ]
  },
  {
   "cell_type": "markdown",
   "id": "0922a4ca-97a5-4fa9-a4bc-b42f205ba524",
   "metadata": {},
   "source": [
    "__Obviously, the bigger difference in points, the bigger difference in skill and experience, the bigger difference in `white` and `black` wins ratio.__"
   ]
  },
  {
   "cell_type": "markdown",
   "id": "97e14c53-c1ea-4c05-8ee7-adc7c84b98b3",
   "metadata": {},
   "source": [
    "### Conclusion\n",
    "\n",
    "Indeed, we saw that in general `white` win more often. However, based on this analysis we can't prove that this is because of the `first move advantage`. There may be other features that impact on the result - skill level (points), popularity of debuts, game type and maybe other factors that can't be found in this particular dataset  "
   ]
  }
 ],
 "metadata": {
  "kernelspec": {
   "display_name": "Python 3 (ipykernel)",
   "language": "python",
   "name": "python3"
  },
  "language_info": {
   "codemirror_mode": {
    "name": "ipython",
    "version": 3
   },
   "file_extension": ".py",
   "mimetype": "text/x-python",
   "name": "python",
   "nbconvert_exporter": "python",
   "pygments_lexer": "ipython3",
   "version": "3.9.12"
  }
 },
 "nbformat": 4,
 "nbformat_minor": 5
}
